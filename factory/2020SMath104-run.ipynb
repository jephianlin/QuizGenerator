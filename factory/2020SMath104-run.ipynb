{
 "cells": [
  {
   "cell_type": "markdown",
   "metadata": {},
   "source": [
    "## Quiz 1"
   ]
  },
  {
   "cell_type": "code",
   "execution_count": 20,
   "metadata": {},
   "outputs": [],
   "source": [
    "reset()"
   ]
  },
  {
   "cell_type": "code",
   "execution_count": 5,
   "metadata": {
    "scrolled": true
   },
   "outputs": [
    {
     "name": "stdout",
     "output_type": "stream",
     "text": [
      "Quiz1-1.tex has been generated.\n",
      "Trying to compile the tex file.\n",
      "The pdf file has been generated.\n",
      "Quiz1-1_solution.tex has been generated.\n",
      "Trying to compile the tex file.\n",
      "The pdf file has been generated.\n",
      "Quiz1-2.tex has been generated.\n",
      "Trying to compile the tex file.\n",
      "The pdf file has been generated.\n",
      "Quiz1-2_solution.tex has been generated.\n",
      "Trying to compile the tex file.\n",
      "The pdf file has been generated.\n",
      "Quiz1-3.tex has been generated.\n",
      "Trying to compile the tex file.\n",
      "The pdf file has been generated.\n",
      "Quiz1-3_solution.tex has been generated.\n",
      "Trying to compile the tex file.\n",
      "The pdf file has been generated.\n",
      "Quiz1-4.tex has been generated.\n",
      "Trying to compile the tex file.\n",
      "The pdf file has been generated.\n",
      "Quiz1-4_solution.tex has been generated.\n",
      "Trying to compile the tex file.\n",
      "The pdf file has been generated.\n",
      "Quiz1-5.tex has been generated.\n",
      "Trying to compile the tex file.\n",
      "The pdf file has been generated.\n",
      "Quiz1-5_solution.tex has been generated.\n",
      "Trying to compile the tex file.\n",
      "The pdf file has been generated.\n",
      "Start merging...\n"
     ]
    }
   ],
   "source": [
    "func_name = 'MatRep'\n",
    "param = (3,2)\n",
    "exam_name = 'Quiz 1'\n",
    "exam_code = exam_name.replace(' ', '')\n",
    "HEADING = r\"\"\"\\centerline{%s \\hfill MATH 104 / GEAI 1209: Linear Algebra II}\"\"\"%exam_name\n",
    "pages = 5\n",
    "\n",
    "load('../common_lib.sage')\n",
    "load('../%s.sage'%func_name)\n",
    "func = eval(func_name)\n",
    "\n",
    "import pandas as pd\n",
    "\n",
    "ans = {}\n",
    "for num in range(1,pages + 1):\n",
    "    seed = num\n",
    "    QUESTION, SOLUTION, CHECKCODE = func(param=param, seed=seed)\n",
    "    \n",
    "    KEY = r\"\"\"%s %3s\"\"\"%(func_name, seed)\n",
    "    \n",
    "    out_name_q = '%s-%s.tex'%(exam_code, num)\n",
    "    out_name_s = '%s-%s_solution.tex'%(exam_code, num)\n",
    "\n",
    "    tex_writer(out_name=out_name_q, sol=False, seed=seed, pdf=True)\n",
    "    tex_writer(out_name=out_name_s, sol=True, seed=seed, pdf=True)\n",
    "    \n",
    "    ans[KEY] = CHECKCODE\n",
    "    \n",
    "    s = pd.Series(ans).rename('CHECKCODE')\n",
    "    s.index.rename('KEY', inplace=True)\n",
    "    s.to_csv('%s_ans.csv'%exam_code, header=True)\n",
    "    \n",
    "print('Start merging...')\n",
    "all_questions = ['%s-%s.pdf'%(exam_code, j) for j in range(1,pages + 1)]\n",
    "all_solutions = ['%s-%s_solution.pdf'%(exam_code, j) for j in range(1,pages + 1)]\n",
    "\n",
    "create_combiner(out_name='%s.tex'%exam_code, files=all_questions)\n",
    "create_combiner(out_name='%s_solution.tex'%exam_code, files=all_solutions)\n",
    "\n",
    "print('Cleaning by-proudcts')\n",
    "suffix = ['log', 'aux', 'tex']\n",
    "prefix = [exam_code]\n",
    "byproducts = [file for file in os.listdir('.') \n",
    "               if file.split('.')[-1] in suffix or file.split('-')[0] in prefix]\n",
    "for file in byproducts:\n",
    "    os.remove(file)\n",
    "    \n",
    "print('Process done!')"
   ]
  },
  {
   "cell_type": "code",
   "execution_count": 6,
   "metadata": {},
   "outputs": [],
   "source": [
    "!mv *.log *.aux *.tex trash/\n",
    "!mv Quiz1-* trash/"
   ]
  },
  {
   "cell_type": "code",
   "execution_count": null,
   "metadata": {},
   "outputs": [],
   "source": []
  },
  {
   "cell_type": "markdown",
   "metadata": {},
   "source": [
    "## Quiz 2"
   ]
  },
  {
   "cell_type": "code",
   "execution_count": 17,
   "metadata": {},
   "outputs": [],
   "source": [
    "reset()"
   ]
  },
  {
   "cell_type": "code",
   "execution_count": 18,
   "metadata": {
    "scrolled": false
   },
   "outputs": [
    {
     "name": "stdout",
     "output_type": "stream",
     "text": [
      "Quiz2-1.tex has been generated.\n",
      "Trying to compile the tex file.\n",
      "The pdf file has been generated.\n",
      "Quiz2-1_solution.tex has been generated.\n",
      "Trying to compile the tex file.\n",
      "The pdf file has been generated.\n",
      "Quiz2-2.tex has been generated.\n",
      "Trying to compile the tex file.\n",
      "The pdf file has been generated.\n",
      "Quiz2-2_solution.tex has been generated.\n",
      "Trying to compile the tex file.\n",
      "The pdf file has been generated.\n",
      "Quiz2-3.tex has been generated.\n",
      "Trying to compile the tex file.\n",
      "The pdf file has been generated.\n",
      "Quiz2-3_solution.tex has been generated.\n",
      "Trying to compile the tex file.\n",
      "The pdf file has been generated.\n",
      "Quiz2-4.tex has been generated.\n",
      "Trying to compile the tex file.\n",
      "The pdf file has been generated.\n",
      "Quiz2-4_solution.tex has been generated.\n",
      "Trying to compile the tex file.\n",
      "The pdf file has been generated.\n",
      "Quiz2-5.tex has been generated.\n",
      "Trying to compile the tex file.\n",
      "The pdf file has been generated.\n",
      "Quiz2-5_solution.tex has been generated.\n",
      "Trying to compile the tex file.\n",
      "The pdf file has been generated.\n",
      "Start merging...\n",
      "Cleaning by-proudcts\n",
      "Process done!\n"
     ]
    }
   ],
   "source": [
    "func_name = 'FindDet'\n",
    "param = (4,3)\n",
    "exam_name = 'Quiz 2'\n",
    "exam_code = exam_name.replace(' ', '')\n",
    "HEADING = r\"\"\"\\centerline{%s \\hfill MATH 104 / GEAI 1209: Linear Algebra II}\"\"\"%exam_name\n",
    "pages = 5\n",
    "\n",
    "load('../common_lib.sage')\n",
    "load('../%s.sage'%func_name)\n",
    "func = eval(func_name)\n",
    "\n",
    "import pandas as pd\n",
    "\n",
    "ans = {}\n",
    "for num in range(1,pages + 1):\n",
    "    seed = num\n",
    "    QUESTION, SOLUTION, CHECKCODE = func(param=param, seed=seed)\n",
    "    \n",
    "    KEY = r\"\"\"%s %3s\"\"\"%(func_name, seed)\n",
    "    \n",
    "    out_name_q = '%s-%s.tex'%(exam_code, num)\n",
    "    out_name_s = '%s-%s_solution.tex'%(exam_code, num)\n",
    "\n",
    "    tex_writer(out_name=out_name_q, sol=False, seed=seed, pdf=True)\n",
    "    tex_writer(out_name=out_name_s, sol=True, seed=seed, pdf=True)\n",
    "    \n",
    "    ans[KEY] = CHECKCODE\n",
    "    \n",
    "    s = pd.Series(ans).rename('CHECKCODE')\n",
    "    s.index.rename('KEY', inplace=True)\n",
    "    s.to_csv('%s_ans.csv'%exam_code, header=True)\n",
    "    \n",
    "print('Start merging...')\n",
    "all_questions = ['%s-%s.pdf'%(exam_code, j) for j in range(1,pages + 1)]\n",
    "all_solutions = ['%s-%s_solution.pdf'%(exam_code, j) for j in range(1,pages + 1)]\n",
    "\n",
    "create_combiner(out_name='%s.tex'%exam_code, files=all_questions)\n",
    "create_combiner(out_name='%s_solution.tex'%exam_code, files=all_solutions)\n",
    "\n",
    "print('Cleaning by-proudcts')\n",
    "suffix = ['log', 'aux', 'tex']\n",
    "prefix = [exam_code]\n",
    "byproducts = [file for file in os.listdir('.') \n",
    "               if file.split('.')[-1] in suffix or file.split('-')[0] in prefix]\n",
    "for file in byproducts:\n",
    "    os.remove(file)\n",
    "    \n",
    "print('Process done!')"
   ]
  },
  {
   "cell_type": "code",
   "execution_count": null,
   "metadata": {},
   "outputs": [],
   "source": []
  },
  {
   "cell_type": "markdown",
   "metadata": {},
   "source": [
    "## Quiz 3"
   ]
  },
  {
   "cell_type": "code",
   "execution_count": 8,
   "metadata": {},
   "outputs": [],
   "source": [
    "reset()"
   ]
  },
  {
   "cell_type": "code",
   "execution_count": 19,
   "metadata": {
    "scrolled": true
   },
   "outputs": [
    {
     "name": "stdout",
     "output_type": "stream",
     "text": [
      "Quiz3-1.tex has been generated.\n",
      "Trying to compile the tex file.\n",
      "The pdf file has been generated.\n",
      "Quiz3-1_solution.tex has been generated.\n",
      "Trying to compile the tex file.\n",
      "The pdf file has been generated.\n",
      "Quiz3-2.tex has been generated.\n",
      "Trying to compile the tex file.\n",
      "The pdf file has been generated.\n",
      "Quiz3-2_solution.tex has been generated.\n",
      "Trying to compile the tex file.\n",
      "The pdf file has been generated.\n",
      "Quiz3-3.tex has been generated.\n",
      "Trying to compile the tex file.\n",
      "The pdf file has been generated.\n",
      "Quiz3-3_solution.tex has been generated.\n",
      "Trying to compile the tex file.\n",
      "The pdf file has been generated.\n",
      "Quiz3-4.tex has been generated.\n",
      "Trying to compile the tex file.\n",
      "The pdf file has been generated.\n",
      "Quiz3-4_solution.tex has been generated.\n",
      "Trying to compile the tex file.\n",
      "The pdf file has been generated.\n",
      "Quiz3-5.tex has been generated.\n",
      "Trying to compile the tex file.\n",
      "The pdf file has been generated.\n",
      "Quiz3-5_solution.tex has been generated.\n",
      "Trying to compile the tex file.\n",
      "The pdf file has been generated.\n",
      "Start merging...\n",
      "Cleaning by-proudcts\n",
      "Process done!\n"
     ]
    }
   ],
   "source": [
    "func_name = 'AbsSumEigs'\n",
    "param = (3,5)\n",
    "exam_name = 'Quiz 3'\n",
    "exam_code = exam_name.replace(' ', '')\n",
    "HEADING = r\"\"\"\\centerline{%s \\hfill MATH 104 / GEAI 1209: Linear Algebra II}\"\"\"%exam_name\n",
    "pages = 5\n",
    "\n",
    "load('../common_lib.sage')\n",
    "load('../%s.sage'%func_name)\n",
    "func = eval(func_name)\n",
    "\n",
    "import pandas as pd\n",
    "\n",
    "ans = {}\n",
    "for num in range(1,pages + 1):\n",
    "    seed = num\n",
    "    QUESTION, SOLUTION, CHECKCODE = func(param=param, seed=seed)\n",
    "    \n",
    "    KEY = r\"\"\"%s %3s\"\"\"%(func_name, seed)\n",
    "    \n",
    "    out_name_q = '%s-%s.tex'%(exam_code, num)\n",
    "    out_name_s = '%s-%s_solution.tex'%(exam_code, num)\n",
    "\n",
    "    tex_writer(out_name=out_name_q, sol=False, seed=seed, pdf=True)\n",
    "    tex_writer(out_name=out_name_s, sol=True, seed=seed, pdf=True)\n",
    "    \n",
    "    ans[KEY] = CHECKCODE\n",
    "    \n",
    "    s = pd.Series(ans).rename('CHECKCODE')\n",
    "    s.index.rename('KEY', inplace=True)\n",
    "    s.to_csv('%s_ans.csv'%exam_code, header=True)\n",
    "    \n",
    "print('Start merging...')\n",
    "all_questions = ['%s-%s.pdf'%(exam_code, j) for j in range(1,pages + 1)]\n",
    "all_solutions = ['%s-%s_solution.pdf'%(exam_code, j) for j in range(1,pages + 1)]\n",
    "\n",
    "create_combiner(out_name='%s.tex'%exam_code, files=all_questions)\n",
    "create_combiner(out_name='%s_solution.tex'%exam_code, files=all_solutions)\n",
    "\n",
    "print('Cleaning by-proudcts')\n",
    "suffix = ['log', 'aux', 'tex']\n",
    "prefix = [exam_code]\n",
    "byproducts = [file for file in os.listdir('.') \n",
    "               if file.split('.')[-1] in suffix or file.split('-')[0] in prefix]\n",
    "for file in byproducts:\n",
    "    os.remove(file)\n",
    "    \n",
    "print('Process done!')"
   ]
  },
  {
   "cell_type": "code",
   "execution_count": null,
   "metadata": {},
   "outputs": [],
   "source": []
  },
  {
   "cell_type": "code",
   "execution_count": null,
   "metadata": {},
   "outputs": [],
   "source": []
  }
 ],
 "metadata": {
  "kernelspec": {
   "display_name": "SageMath 9.0",
   "language": "sage",
   "name": "sagemath"
  },
  "language_info": {
   "codemirror_mode": {
    "name": "ipython",
    "version": 3
   },
   "file_extension": ".py",
   "mimetype": "text/x-python",
   "name": "python",
   "nbconvert_exporter": "python",
   "pygments_lexer": "ipython3",
   "version": "3.8.1"
  }
 },
 "nbformat": 4,
 "nbformat_minor": 2
}
