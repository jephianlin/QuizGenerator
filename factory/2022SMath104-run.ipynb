{
 "cells": [
  {
   "cell_type": "code",
   "execution_count": null,
   "metadata": {},
   "outputs": [],
   "source": [
    "reset()"
   ]
  },
  {
   "cell_type": "code",
   "execution_count": null,
   "metadata": {},
   "outputs": [],
   "source": [
    "load('../qgen.py')"
   ]
  },
  {
   "cell_type": "markdown",
   "metadata": {},
   "source": [
    "## Quiz 1"
   ]
  },
  {
   "cell_type": "code",
   "execution_count": null,
   "metadata": {},
   "outputs": [],
   "source": [
    "settings = {\n",
    "    \"func_name\": \"FindDet\",\n",
    "    \"exam_name\": \"Quiz 1\",\n",
    "    \"course_info\": \"MATH 104: Linear Algebra II\",\n",
    "}\n",
    "qz = quiz(settings)\n",
    "qz.print_settings()"
   ]
  },
  {
   "cell_type": "code",
   "execution_count": null,
   "metadata": {
    "scrolled": true
   },
   "outputs": [],
   "source": [
    "### re-generated 20202SMath104 Quiz 2\n",
    "qz.generate(200)"
   ]
  },
  {
   "cell_type": "markdown",
   "metadata": {},
   "source": [
    "## Quiz 2"
   ]
  },
  {
   "cell_type": "code",
   "execution_count": null,
   "metadata": {
    "scrolled": true
   },
   "outputs": [],
   "source": [
    "settings = {\n",
    "    \"func_name\": \"MatRep\",\n",
    "    \"exam_name\": \"Quiz 2\",\n",
    "    \"course_info\": \"MATH 104: Linear Algebra II\",\n",
    "}\n",
    "qz = quiz(settings)\n",
    "qz.print_settings()"
   ]
  },
  {
   "cell_type": "code",
   "execution_count": null,
   "metadata": {},
   "outputs": [],
   "source": [
    "### re-generated 20202SMath104 Quiz 1\n",
    "qz.generate(200)"
   ]
  },
  {
   "cell_type": "markdown",
   "metadata": {},
   "source": [
    "## Quiz 3"
   ]
  },
  {
   "cell_type": "code",
   "execution_count": null,
   "metadata": {
    "scrolled": false
   },
   "outputs": [],
   "source": [
    "settings = {\n",
    "    \"func_name\": \"AbsSumEigs\",\n",
    "    \"exam_name\": \"Quiz 3\",\n",
    "    \"course_info\": \"MATH 104: Linear Algebra II\",\n",
    "}\n",
    "qz = quiz(settings)\n",
    "qz.print_settings()"
   ]
  },
  {
   "cell_type": "code",
   "execution_count": null,
   "metadata": {},
   "outputs": [],
   "source": [
    "### re-generated 20202SMath104 Quiz 3\n",
    "qz.generate(200)"
   ]
  },
  {
   "cell_type": "code",
   "execution_count": null,
   "metadata": {},
   "outputs": [],
   "source": []
  }
 ],
 "metadata": {
  "kernelspec": {
   "display_name": "SageMath 9.5",
   "language": "sage",
   "name": "sagemath"
  },
  "language_info": {
   "codemirror_mode": {
    "name": "ipython",
    "version": 3
   },
   "file_extension": ".py",
   "mimetype": "text/x-python",
   "name": "python",
   "nbconvert_exporter": "python",
   "pygments_lexer": "ipython3",
   "version": "3.10.2"
  }
 },
 "nbformat": 4,
 "nbformat_minor": 2
}
