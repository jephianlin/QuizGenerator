{
 "cells": [
  {
   "cell_type": "code",
   "execution_count": null,
   "metadata": {},
   "outputs": [],
   "source": [
    "reset()"
   ]
  },
  {
   "cell_type": "code",
   "execution_count": null,
   "metadata": {},
   "outputs": [],
   "source": [
    "load('../qgen.py')"
   ]
  },
  {
   "cell_type": "markdown",
   "metadata": {},
   "source": [
    "## Quiz 1"
   ]
  },
  {
   "cell_type": "code",
   "execution_count": null,
   "metadata": {},
   "outputs": [],
   "source": [
    "settings = {\n",
    "    \"func_name\": \"NullBasis\",\n",
    "    \"exam_name\": \"Quiz 1\",\n",
    "    \"course_info\": \"MATH 103: Linear Algebra I\",\n",
    "}\n",
    "qz = quiz(settings)\n",
    "qz.print_settings()"
   ]
  },
  {
   "cell_type": "code",
   "execution_count": null,
   "metadata": {
    "scrolled": true
   },
   "outputs": [],
   "source": [
    "qz.generate(200)"
   ]
  },
  {
   "cell_type": "markdown",
   "metadata": {},
   "source": [
    "## Quiz 2"
   ]
  },
  {
   "cell_type": "code",
   "execution_count": null,
   "metadata": {
    "scrolled": true
   },
   "outputs": [],
   "source": [
    "settings = {\n",
    "    \"func_name\": \"ColBasis\",\n",
    "    \"exam_name\": \"Quiz 2\",\n",
    "    \"course_info\": \"MATH 103: Linear Algebra I\",\n",
    "}\n",
    "qz = quiz(settings)\n",
    "qz.print_settings()"
   ]
  },
  {
   "cell_type": "code",
   "execution_count": null,
   "metadata": {},
   "outputs": [],
   "source": [
    "### use existing one by 2019FMath103\n",
    "### did not re-generated\n",
    "### re-generated on Nov 21 since the old one has the wrong margin setting\n",
    "qz.generate(200)"
   ]
  },
  {
   "cell_type": "markdown",
   "metadata": {},
   "source": [
    "## Quiz 3"
   ]
  },
  {
   "cell_type": "code",
   "execution_count": null,
   "metadata": {
    "scrolled": true
   },
   "outputs": [],
   "source": [
    "settings = {\n",
    "    \"func_name\": \"SolComb\",\n",
    "    \"exam_name\": \"Quiz 3\",\n",
    "    \"course_info\": \"MATH 103: Linear Algebra I\",\n",
    "}\n",
    "qz = quiz(settings)\n",
    "qz.print_settings()"
   ]
  },
  {
   "cell_type": "code",
   "execution_count": null,
   "metadata": {},
   "outputs": [],
   "source": [
    "### use existing one by 2019FMath103\n",
    "### did not re-generated\n",
    "### re-generated on Nov 21 since the old one has the wrong margin setting\n",
    "qz.generate(200)"
   ]
  },
  {
   "cell_type": "code",
   "execution_count": null,
   "metadata": {},
   "outputs": [],
   "source": []
  }
 ],
 "metadata": {
  "kernelspec": {
   "display_name": "SageMath 9.4",
   "language": "sage",
   "name": "sagemath"
  },
  "language_info": {
   "codemirror_mode": {
    "name": "ipython",
    "version": 3
   },
   "file_extension": ".py",
   "mimetype": "text/x-python",
   "name": "python",
   "nbconvert_exporter": "python",
   "pygments_lexer": "ipython3",
   "version": "3.9.7"
  }
 },
 "nbformat": 4,
 "nbformat_minor": 2
}
