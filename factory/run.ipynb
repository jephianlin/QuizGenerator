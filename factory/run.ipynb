{
 "cells": [
  {
   "cell_type": "code",
   "execution_count": 1,
   "metadata": {},
   "outputs": [],
   "source": [
    "reset()"
   ]
  },
  {
   "cell_type": "code",
   "execution_count": 2,
   "metadata": {},
   "outputs": [
    {
     "name": "stdout",
     "output_type": "stream",
     "text": [
      "tw_output.tex has been generated.\n",
      "Trying to compile the tex file.\n",
      "The pdf file has been generated.\n"
     ]
    }
   ],
   "source": [
    "load('../common_lib.sage')\n",
    "load('../NullBasis.sage')\n",
    "\n",
    "seed = 1\n",
    "QUESTION, SOLUTION, CHECKCODE = NullBasis(param=(3,4,2), seed=seed)\n",
    "HEADING = r\"\"\"\\centerline{Quiz 1 \\hfill MATH 103 / GEAI 1215: Linear Algebra I}\"\"\"\n",
    "KEY = r\"\"\"NullBasis %s\"\"\"%seed\n",
    "\n",
    "tex_writer(sol=True, seed=seed, pdf=True)"
   ]
  },
  {
   "cell_type": "code",
   "execution_count": null,
   "metadata": {},
   "outputs": [],
   "source": []
  }
 ],
 "metadata": {
  "kernelspec": {
   "display_name": "SageMath 8.8",
   "language": "sage",
   "name": "sagemath"
  },
  "language_info": {
   "codemirror_mode": {
    "name": "ipython",
    "version": 2
   },
   "file_extension": ".py",
   "mimetype": "text/x-python",
   "name": "python",
   "nbconvert_exporter": "python",
   "pygments_lexer": "ipython2",
   "version": "2.7.16"
  }
 },
 "nbformat": 4,
 "nbformat_minor": 2
}
