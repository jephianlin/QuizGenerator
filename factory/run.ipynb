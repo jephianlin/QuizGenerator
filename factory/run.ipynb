{
 "cells": [
  {
   "cell_type": "code",
   "execution_count": 16,
   "metadata": {},
   "outputs": [],
   "source": [
    "reset()"
   ]
  },
  {
   "cell_type": "markdown",
   "metadata": {},
   "source": [
    "'NullBasis'\n",
    "'ColBasis'\n",
    "'SolComb'\n",
    "'MatRep'\n",
    "'FindDet'\n",
    "'AbsSumEigs'"
   ]
  },
  {
   "cell_type": "code",
   "execution_count": 18,
   "metadata": {},
   "outputs": [
    {
     "name": "stdout",
     "output_type": "stream",
     "text": [
      "tw_output.tex has been generated.\n",
      "Trying to compile the tex file.\n",
      "The pdf file has been generated.\n"
     ]
    }
   ],
   "source": [
    "load('../common_lib.sage')\n",
    "\n",
    "func_name = 'AbsSumEigs'\n",
    "param = (3,5)\n",
    "load('../%s.sage'%func_name)\n",
    "func = eval(func_name)\n",
    "\n",
    "seed = 1\n",
    "QUESTION, SOLUTION, CHECKCODE = func(param=param, seed=seed)\n",
    "HEADING = r\"\"\"\\centerline{Quiz 3 \\hfill MATH 103 / GEAI 1215: Linear Algebra I}\"\"\"\n",
    "KEY = r\"\"\"SolComb %s\"\"\"%seed\n",
    "\n",
    "tex_writer(sol=True, seed=seed, pdf=True)"
   ]
  },
  {
   "cell_type": "code",
   "execution_count": null,
   "metadata": {},
   "outputs": [],
   "source": []
  }
 ],
 "metadata": {
  "kernelspec": {
   "display_name": "SageMath 9.0",
   "language": "sage",
   "name": "sagemath"
  },
  "language_info": {
   "codemirror_mode": {
    "name": "ipython",
    "version": 3
   },
   "file_extension": ".py",
   "mimetype": "text/x-python",
   "name": "python",
   "nbconvert_exporter": "python",
   "pygments_lexer": "ipython3",
   "version": "3.8.1"
  }
 },
 "nbformat": 4,
 "nbformat_minor": 2
}
