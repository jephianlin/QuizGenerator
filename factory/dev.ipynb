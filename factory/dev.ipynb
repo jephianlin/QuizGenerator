{
 "cells": [
  {
   "cell_type": "code",
   "execution_count": 9,
   "metadata": {},
   "outputs": [],
   "source": [
    "reset()"
   ]
  },
  {
   "cell_type": "code",
   "execution_count": 10,
   "metadata": {},
   "outputs": [],
   "source": [
    "load('../common_lib.sage')"
   ]
  },
  {
   "cell_type": "code",
   "execution_count": null,
   "metadata": {},
   "outputs": [],
   "source": []
  },
  {
   "cell_type": "code",
   "execution_count": null,
   "metadata": {},
   "outputs": [],
   "source": []
  },
  {
   "cell_type": "code",
   "execution_count": 48,
   "metadata": {},
   "outputs": [],
   "source": [
    "def SolComb(param=(4,3,5), seed=None):\n",
    "    \"\"\"\n",
    "    A quiz generator asking for the vector representation.\n",
    "    \n",
    "    INPUT:\n",
    "    \n",
    "    - ``param`` -- tuple `(m,n,bound)`;  \n",
    "      `n` independent columns in `RR^m`\n",
    "      will be generated, so make sure `m >= n`.\n",
    "      ``bound`` is the bound for the abs value \n",
    "      for (entries of) the solution.\n",
    "      \n",
    "    - ``seed`` -- integer;  you may give a seed for  \n",
    "      the random process if  you like.  Otherwise  \n",
    "      the default is ``None`` and a random number  \n",
    "      will be chosen.\n",
    "      \n",
    "    OUTPUT:\n",
    "    \n",
    "    three strings: QUESTION, SOLUTION, CHECKCODE\n",
    "    \"\"\"\n",
    "    \n",
    "    # EXAMPLES:\n",
    "\n",
    "    # sage: load('../common_lib.sage')\n",
    "    # sage: load('../ColBasis.sage')\n",
    "    # sage: \n",
    "    # sage: seed = 1\n",
    "    # sage: QUESTION, SOLUTION, CHECKCODE = ColBasis(param=(4,5,3), seed=seed)\n",
    "    # sage: HEADING = r\"\"\"\\centerline{Quiz 2 \\hfill MATH 103 / GEAI 1215: Linear Algebra I}\"\"\"\n",
    "    # sage: KEY = r\"\"\"ColBasis %s\"\"\"%seed\n",
    "    # sage: \n",
    "    # sage: tex_writer(sol=True, seed=seed, pdf=True)\n",
    "    # tw_output.tex has been generated.\n",
    "    # Trying to compile the tex file.\n",
    "    # The pdf file has been generated.\n",
    "\n",
    "    m, n, bound = param\n",
    "    random.seed(seed)\n",
    "    \n",
    "    A, R, pivots = random_good_matrix(m, n, n, return_answer=True)\n",
    "    all_numbers = list(range(-bound,bound+1))\n",
    "    vec_x = matrix(n, [random.choice(all_numbers) for i in range(n)])\n",
    "    vec_b = A * vec_x\n",
    "    \n",
    "    checkcode = sum(vec_x.transpose()[0]) % 10\n",
    "    CHECKCODE = \"%s\"%checkcode\n",
    "    \n",
    "    col_string = ', '.join(\n",
    "        [r\"\"\"\\bv_{%s}=%s\"\"\"%(j+1, latex_matrix(A[:,j:j+1]))\n",
    "         for j in range(n-1)])\n",
    "    col_string += r\"\"\", \\text{and }\\bv_{%s}=%s.\"\"\"%(n, latex_matrix(A[:,n-1:n]))\n",
    "    \n",
    "    QUESTION = r\"\"\"\\newcommand{\\bb}{{\\bf b}}\n",
    "\\newcommand{\\repr}{\\operatorname{Repr}}\n",
    "    \n",
    "Let \n",
    "\\[{\\bf A} = %s\n",
    "\\text{ and }\n",
    "\\bb = %s.]\n",
    "Suppose $\\beta$ is the basis formed by the columns of $A$.  \n",
    "Find $\\repr_\\beta(\\bb)$.\n",
    "\n",
    "\\bigskip\n",
    "Check code $=$ (sum of all entries of $\\bb$) mod $10$\n",
    "    \"\"\"%(\n",
    "        latex_matrix(A),\n",
    "        latex_matrix(vec_b)\n",
    "        )\n",
    "    \n",
    "    SOLUTION = r\"\"\"Solve the system of linear equations ${\\bf A}{\\bf x}=\\bb$, \n",
    "using Gaussian elimination or any method you like.  The answer is \n",
    "\\[\\repr_\\beta(\\bb)=\\bx=\\rboxed{%s}.\\]\n",
    "\n",
    "\\bigskip \n",
    "Check code $=$ (sum of all entries of $\\bb$) mod $10$ $= %s$.\n",
    "\"\"\"%(\n",
    "    vec_x, \n",
    "    CHECKCODE\n",
    "    )\n",
    "    \n",
    "    return QUESTION, SOLUTION, CHECKCODE"
   ]
  },
  {
   "cell_type": "code",
   "execution_count": 49,
   "metadata": {},
   "outputs": [],
   "source": [
    "QUESTION, SOLUTION, CHECKCODE = SolComb()"
   ]
  },
  {
   "cell_type": "code",
   "execution_count": 50,
   "metadata": {},
   "outputs": [
    {
     "name": "stdout",
     "output_type": "stream",
     "text": [
      "\\newcommand{\\bb}{{\\bf b}}\n",
      "\\newcommand{\\repr}{\\operatorname{Repr}}\n",
      "    \n",
      "Let \n",
      "\\[{\\bf A} = \\begin{bmatrix}\n",
      " 1 & -5 & -2 \\\\ \n",
      " -3 & 16 & 9 \\\\ \n",
      " 9 & -48 & -26 \\\\ \n",
      " 4 & -22 & -14 \\\\ \n",
      "\\end{bmatrix}\n",
      "\\text{ and }\n",
      "\\bb = \\begin{bmatrix}\n",
      " -10 \\\\ \n",
      " 26 \\\\ \n",
      " -80 \\\\ \n",
      " -32 \\\\ \n",
      "\\end{bmatrix}.]\n",
      "Suppose $\\beta$ is the basis formed by the columns of $A$.  \n",
      "Find $\\repr_\\beta(\\bb)$.\n",
      "\n",
      "\\bigskip\n",
      "Check code $=$ (sum of all entries of $\\bb$) mod $10$\n",
      "    \n"
     ]
    }
   ],
   "source": [
    "print(QUESTION)"
   ]
  },
  {
   "cell_type": "code",
   "execution_count": 51,
   "metadata": {},
   "outputs": [
    {
     "name": "stdout",
     "output_type": "stream",
     "text": [
      "Solve the system of linear equations ${\\bf A}{\\bf x}=\\bb$, \n",
      "using Gaussian elimination or any method you like.  The answer is \n",
      "\\[\\repr_\\beta(\\bb)=\\bx=\\rboxed{[-4]\n",
      "[ 2]\n",
      "[-2]}.\\]\n",
      "\n",
      "\\bigskip \n",
      "Check code $=$ (sum of all entries of $\\bb$) mod $10$ $= 6$.\n",
      "\n"
     ]
    }
   ],
   "source": [
    "print(SOLUTION)"
   ]
  },
  {
   "cell_type": "code",
   "execution_count": 52,
   "metadata": {},
   "outputs": [
    {
     "name": "stdout",
     "output_type": "stream",
     "text": [
      "6\n"
     ]
    }
   ],
   "source": [
    "print(CHECKCODE)"
   ]
  },
  {
   "cell_type": "code",
   "execution_count": 61,
   "metadata": {},
   "outputs": [
    {
     "name": "stdout",
     "output_type": "stream",
     "text": [
      "Overwriting ../SolComb.sage\n"
     ]
    }
   ],
   "source": [
    "%%writefile ../SolComb.sage\n",
    "def SolComb(param=(4,3,5), seed=None):\n",
    "    \"\"\"\n",
    "    A quiz generator asking for the vector representation.\n",
    "    \n",
    "    INPUT:\n",
    "    \n",
    "    - ``param`` -- tuple `(m,n,bound)` (default: `(4,3,5)`);  \n",
    "      `n` independent columns in `RR^m`\n",
    "      will be generated, so make sure `m >= n`.\n",
    "      ``bound`` is the bound for the abs value \n",
    "      for (entries of) the solution.\n",
    "      \n",
    "    - ``seed`` -- integer;  you may give a seed for  \n",
    "      the random process if  you like.  Otherwise  \n",
    "      the default is ``None`` and a random number  \n",
    "      will be chosen.\n",
    "      \n",
    "    OUTPUT:\n",
    "    \n",
    "    three strings: QUESTION, SOLUTION, CHECKCODE\n",
    "    \"\"\"\n",
    "    \n",
    "    # EXAMPLES:\n",
    "\n",
    "    # sage: load('../common_lib.sage')\n",
    "    # sage: load('../ColBasis.sage')\n",
    "    # sage: \n",
    "    # sage: seed = 1\n",
    "    # sage: QUESTION, SOLUTION, CHECKCODE = ColBasis(param=(4,5,3), seed=seed)\n",
    "    # sage: HEADING = r\"\"\"\\centerline{Quiz 2 \\hfill MATH 103 / GEAI 1215: Linear Algebra I}\"\"\"\n",
    "    # sage: KEY = r\"\"\"ColBasis %s\"\"\"%seed\n",
    "    # sage: \n",
    "    # sage: tex_writer(sol=True, seed=seed, pdf=True)\n",
    "    # tw_output.tex has been generated.\n",
    "    # Trying to compile the tex file.\n",
    "    # The pdf file has been generated.\n",
    "\n",
    "    m, n, bound = param\n",
    "    random.seed(seed)\n",
    "    \n",
    "    A, R, pivots = random_good_matrix(m, n, n, return_answer=True)\n",
    "    all_numbers = list(range(-bound,bound+1))\n",
    "    vec_x = matrix(n, [random.choice(all_numbers) for i in range(n)])\n",
    "    vec_b = A * vec_x\n",
    "    \n",
    "    checkcode = sum(vec_x.transpose()[0]) % 10\n",
    "    CHECKCODE = \"%s\"%checkcode\n",
    "    \n",
    "    col_string = ', '.join(\n",
    "        [r\"\"\"\\bv_{%s}=%s\"\"\"%(j+1, latex_matrix(A[:,j:j+1]))\n",
    "         for j in range(n-1)])\n",
    "    col_string += r\"\"\", \\text{and }\\bv_{%s}=%s.\"\"\"%(n, latex_matrix(A[:,n-1:n]))\n",
    "    \n",
    "    QUESTION = r\"\"\"\\newcommand{\\bb}{{\\bf b}}\n",
    "\\newcommand{\\repr}{\\operatorname{Repr}}\n",
    "    \n",
    "Let \n",
    "\\[{\\bf A} = %s\n",
    "\\text{ and }\n",
    "\\bb = %s.\\]\n",
    "Suppose $\\beta$ is the basis formed by the columns of ${\\bf A}$.  \n",
    "Find $\\repr_\\beta(\\bb)$.\n",
    "\n",
    "\\bigskip\n",
    "Check code $=$ (sum of all entries of $\\bb$) mod $10$\n",
    "    \"\"\"%(\n",
    "        latex_matrix(A),\n",
    "        latex_matrix(vec_b)\n",
    "        )\n",
    "    \n",
    "    SOLUTION = r\"\"\"Solve the system of linear equations ${\\bf A}{\\bf x}=\\bb$, \n",
    "using Gaussian elimination or any method you like.  The answer is \n",
    "\\[\\repr_\\beta(\\bb)={\\bf x}=\\rboxed{%s}.\\]\n",
    "\n",
    "\\bigskip \n",
    "Check code $=$ (sum of all entries of $\\bb$) mod $10$ $= %s$.\n",
    "\"\"\"%(\n",
    "    latex_matrix(vec_x), \n",
    "    CHECKCODE\n",
    "    )\n",
    "    \n",
    "    return QUESTION, SOLUTION, CHECKCODE\n"
   ]
  },
  {
   "cell_type": "code",
   "execution_count": null,
   "metadata": {},
   "outputs": [],
   "source": []
  },
  {
   "cell_type": "code",
   "execution_count": null,
   "metadata": {},
   "outputs": [],
   "source": []
  },
  {
   "cell_type": "code",
   "execution_count": null,
   "metadata": {},
   "outputs": [],
   "source": []
  },
  {
   "cell_type": "code",
   "execution_count": 58,
   "metadata": {},
   "outputs": [
    {
     "name": "stdout",
     "output_type": "stream",
     "text": [
      "Overwriting ../ColBasis.sage\n"
     ]
    }
   ],
   "source": [
    "%%writefile ../ColBasis.sage\n",
    "def ColBasis(param=(3,4,2), seed=None):\n",
    "    \"\"\"\n",
    "    A quiz generator asking the first redundant column.\n",
    "    \n",
    "    INPUT:\n",
    "    \n",
    "    - ``param`` -- tuple `(m,n,r)`;  \n",
    "      `n` columns in `RR^m`, while the generated space  \n",
    "      is of dimension `r`.\n",
    "      \n",
    "    - ``seed`` -- integer;  you may give a seed for  \n",
    "      the random process if  you like.  Otherwise  \n",
    "      the default is ``None`` and a random number  \n",
    "      will be chosen.\n",
    "      \n",
    "    OUTPUT:\n",
    "    \n",
    "    three strings: QUESTION, SOLUTION, CHECKCODE\n",
    "    \"\"\"\n",
    "    \n",
    "    # EXAMPLES:\n",
    "\n",
    "    # sage: load('../common_lib.sage')\n",
    "    # sage: load('../ColBasis.sage')\n",
    "    # sage: \n",
    "    # sage: seed = 1\n",
    "    # sage: QUESTION, SOLUTION, CHECKCODE = ColBasis(param=(4,5,3), seed=seed)\n",
    "    # sage: HEADING = r\"\"\"\\centerline{Quiz 2 \\hfill MATH 103 / GEAI 1215: Linear Algebra I}\"\"\"\n",
    "    # sage: KEY = r\"\"\"ColBasis %s\"\"\"%seed\n",
    "    # sage: \n",
    "    # sage: tex_writer(sol=True, seed=seed, pdf=True)\n",
    "    # tw_output.tex has been generated.\n",
    "    # Trying to compile the tex file.\n",
    "    # The pdf file has been generated.\n",
    "\n",
    "    m, n, r = param\n",
    "    random.seed(seed)\n",
    "    \n",
    "    A, R, pivots = random_good_matrix(m, n, r, return_answer=True)\n",
    "    free = [j for j in range(n) if j not in pivots]\n",
    "    first_free = free[0]\n",
    "    vk = A[:,first_free:first_free+1]\n",
    "    checkcode = sum(vk.transpose()[0]) % 10\n",
    "    CHECKCODE = \"%s\"%checkcode\n",
    "    \n",
    "    col_string = ', '.join(\n",
    "        [r\"\"\"\\bv_{%s}=%s\"\"\"%(j+1, latex_matrix(A[:,j:j+1]))\n",
    "         for j in range(n-1)])\n",
    "    col_string += r\"\"\", \\text{and }\\bv_{%s}=%s.\"\"\"%(n, latex_matrix(A[:,n-1:n]))\n",
    "    \n",
    "    QUESTION = r\"\"\"\\newcommand{\\bv}{{\\bf v}}\n",
    "Let \n",
    "\\[%s\\] \n",
    "Find the vector $\\bv_k$ with the smallest $k$ such that \n",
    "$\\{\\bv_1,\\ldots,\\bv_{k-1}\\}$ is linearly independent but \n",
    "$\\{\\bv_1,\\ldots,\\bv_k\\}$ is linearly dependent.\n",
    "\n",
    "\\bigskip\n",
    "Check code $=$ (sum of all entries of $\\bv_k$) mod $10$\n",
    "    \"\"\"%(col_string)\n",
    "    \n",
    "    \n",
    "    SOLUTION = r\"\"\"Let ${\\bf A}$ be the matrix whose columns \n",
    "are $\\{\\bv_1,\\ldots,\\bv_{%s}\\}$.  The reduced echelon form of ${\\bf A}$ is \n",
    "\\[{\\bf R} = %s\\]\n",
    "and the first free variable occurs on the $%s$-th column.\n",
    "\n",
    "Therefore, $k=%s$ and $\\rboxed{\\bv_k=%s}$.\n",
    "\n",
    "\\bigskip \n",
    "Check code $=$ (sum of all entries of $\\bv_k$) mod $10$ $= %s$.\n",
    "\"\"\"%(n, \n",
    "    latex_matrix(R), \n",
    "    first_free+1,\n",
    "    first_free+1,\n",
    "    latex_matrix(vk),\n",
    "    CHECKCODE\n",
    "    )\n",
    "    \n",
    "    return QUESTION, SOLUTION, CHECKCODE"
   ]
  },
  {
   "cell_type": "code",
   "execution_count": 39,
   "metadata": {},
   "outputs": [],
   "source": [
    "mv ColBasis.sage ../"
   ]
  },
  {
   "cell_type": "code",
   "execution_count": 31,
   "metadata": {},
   "outputs": [],
   "source": [
    "!rm ColumnBasis.sage"
   ]
  }
 ],
 "metadata": {
  "kernelspec": {
   "display_name": "SageMath 8.1",
   "language": "",
   "name": "sagemath"
  },
  "language_info": {
   "codemirror_mode": {
    "name": "ipython",
    "version": 2
   },
   "file_extension": ".py",
   "mimetype": "text/x-python",
   "name": "python",
   "nbconvert_exporter": "python",
   "pygments_lexer": "ipython2",
   "version": "2.7.15+"
  }
 },
 "nbformat": 4,
 "nbformat_minor": 2
}
