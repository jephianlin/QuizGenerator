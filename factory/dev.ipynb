{
 "cells": [
  {
   "cell_type": "code",
   "execution_count": 480,
   "metadata": {},
   "outputs": [],
   "source": [
    "reset()"
   ]
  },
  {
   "cell_type": "code",
   "execution_count": 481,
   "metadata": {},
   "outputs": [],
   "source": [
    "load('../common_lib.sage')"
   ]
  },
  {
   "cell_type": "code",
   "execution_count": 482,
   "metadata": {},
   "outputs": [],
   "source": [
    "preparser(False)"
   ]
  },
  {
   "cell_type": "code",
   "execution_count": 199,
   "metadata": {},
   "outputs": [
    {
     "name": "stdout",
     "output_type": "stream",
     "text": [
      "Overwriting ../MatRep.sage\n"
     ]
    }
   ],
   "source": [
    "%%writefile ../MatRep.sage\n",
    "def MatRep(param=(3,2), seed=None):\n",
    "    \"\"\"\n",
    "    A quiz generator for finding the matrix representation\n",
    "    \n",
    "    INPUT:\n",
    "    \n",
    "    - ``param`` -- tuple `(dim, bound)`; \n",
    "      dim is the order of the A matrix  \n",
    "      bound is the bound for random_int_matrix  \n",
    "      and random_good_matrix\n",
    "      \n",
    "    - ``seed`` -- integer;  you may give a seed for  \n",
    "      the random process if  you like.  Otherwise  \n",
    "      the default is ``None`` and a random number  \n",
    "      will be chosen.\n",
    "      \n",
    "    OUTPUT:\n",
    "    \n",
    "    three strings: QUESTION, SOLUTION, CHECKCODE\n",
    "    \"\"\"\n",
    "    dim, bound = param\n",
    "    random.seed(seed)\n",
    "\n",
    "    A = random_int_matrix(dim, dim, bound=bound)\n",
    "    B = random_good_matrix(dim, dim, dim, bound=bound)\n",
    "\n",
    "    QUESTION = r\"\"\"\\newcommand{\\bv}{{\\bf v}}\n",
    "\\newcommand{\\rep}{\\operatorname{Rep}} \n",
    "   \n",
    "Let \n",
    "\\[A = %(A)s \\text{ and }\n",
    "B = %(B)s.\\]\n",
    "Suppose $f:\\mathbb{R}^%(dim)s\\rightarrow\\mathbb{R}^%(dim)s$ is a homomorphism  \n",
    "defined by $f(\\bv) = A\\bv$ for all $\\bv\\in\\mathbb{R}^%(dim)s$  \n",
    "and $\\mathcal{B}$ is a basis of $\\mathbb{R}^%(dim)s$ composed of the columns of $B$.  \n",
    "Find $\\rep_{\\mathcal{B},\\mathcal{B}}(f)$.\n",
    "\n",
    "\\bigskip\n",
    "Check code $=$ (sum of all entries of $\\rep_{\\mathcal{B},\\mathcal{B}}(f)$) mod $10$\n",
    "    \"\"\"%{'A': latex_matrix(A), \n",
    "         'B': latex_matrix(B), \n",
    "         'dim': dim\n",
    "        }\n",
    "    \n",
    "    AB = A * B\n",
    "    Av_stg = ', '.join([r'A\\bv_%s = %s'%(j+1, latex_matrix(AB[:,j])) for j in range(dim-1)]) + \\\n",
    "             r', \\text{ and } A\\bv_%s = %s'%(dim, latex_matrix(AB[:,dim-1]))\n",
    "    BinvAB = B.inverse() * AB\n",
    "    repAv_stg = ', '.join([r'\\rep_{\\mathcal{B}}(A\\bv_%s) = %s'%(j+1, latex_matrix(BinvAB[:,j])) for j in range(dim-1)]) + \\\n",
    "                r', \\text{ and } \\rep_{\\mathcal{B}}(A\\bv_%s) = %s'%(dim, latex_matrix(AB[:,dim-1]))\n",
    "    \n",
    "    checkcode = sum(BinvAB[i,j] for i in range(dim) for j in range(dim)) % 10\n",
    "    CHECKCODE = \"%s\"%checkcode\n",
    "    \n",
    "    SOLUTION = r\"\"\"Let $\\bv_j$ be the $j$-th column of $B$.  \n",
    "Then $f(\\bv_j)$'s can be computed as  \n",
    "\\[%(Av_stg)s\\]\n",
    "and $\\rep_{\\mathcal{B}}(f(\\bv_j))$'s are\n",
    "\\[%(repAv_stg)s.\\]  \n",
    "Thus, \n",
    "\\[\\rep_{\\mathcal{B},\\mathcal{B}}(f) = \\rboxed{%(BinvAB)s}.\\]  \n",
    "\n",
    "\\bigskip \n",
    "Check code $=$ (sum of all entries of $\\rep_{\\mathcal{B},\\mathcal{B}}(f)$) mod $10$ $= %(checkcode)s$.\n",
    "    \"\"\"%({'Av_stg': Av_stg, \n",
    "          'repAv_stg': repAv_stg,\n",
    "          'BinvAB': latex_matrix(BinvAB),\n",
    "          'checkcode': checkcode\n",
    "         })\n",
    "    \n",
    "    return QUESTION, SOLUTION, CHECKCODE"
   ]
  },
  {
   "cell_type": "code",
   "execution_count": 225,
   "metadata": {},
   "outputs": [
    {
     "name": "stdout",
     "output_type": "stream",
     "text": [
      "Overwriting ../FindDet.sage\n"
     ]
    }
   ],
   "source": [
    "%%writefile ../FindDet.sage\n",
    "def FindDet(param=(4,3), seed=None):\n",
    "    \"\"\"\n",
    "    A quiz generator for finding the determinant\n",
    "    \n",
    "    INPUT:\n",
    "    \n",
    "    - ``param`` -- tuple `(dim, bound)`; \n",
    "      dim is the order of the A matrix  \n",
    "      bound is the bound for random_int_matrix  \n",
    "      \n",
    "    - ``seed`` -- integer;  you may give a seed for  \n",
    "      the random process if  you like.  Otherwise  \n",
    "      the default is ``None`` and a random number  \n",
    "      will be chosen.\n",
    "      \n",
    "    OUTPUT:\n",
    "    \n",
    "    three strings: QUESTION, SOLUTION, CHECKCODE\n",
    "    \"\"\"\n",
    "    dim, bound = param\n",
    "    random.seed(seed)\n",
    "\n",
    "    A = random_int_matrix(dim, dim, bound=bound)\n",
    "\n",
    "    QUESTION = r\"\"\"\\newcommand{\\bv}{{\\bf v}}\n",
    "\\newcommand{\\rep}{\\operatorname{Rep}} \n",
    "   \n",
    "Let \n",
    "\\[A = %(A)s.\\]\n",
    "Find $\\det(A)$.\n",
    "\n",
    "\\bigskip\n",
    "Check code $=$ $\\det(A)$ mod $10$\n",
    "    \"\"\"%{'A': latex_matrix(A)\n",
    "        }\n",
    "    \n",
    "    Adet = A.determinant()\n",
    "    \n",
    "    checkcode = Adet % 10\n",
    "    CHECKCODE = \"%s\"%checkcode\n",
    "    \n",
    "    SOLUTION = r\"\"\"You may use Laplace's expansion or the permutation expansion to compute the determinant.  \n",
    "The determinant of $A$ is $\\rboxed{%(Adet)s}$.\n",
    "\n",
    "\\bigskip \n",
    "Check code $=$ $\\det(A)$ mod $10$ $= %(checkcode)s$.\n",
    "    \"\"\"%({'Adet': Adet, \n",
    "          'checkcode': checkcode\n",
    "         })\n",
    "    \n",
    "    return QUESTION, SOLUTION, CHECKCODE"
   ]
  },
  {
   "cell_type": "code",
   "execution_count": 503,
   "metadata": {},
   "outputs": [
    {
     "name": "stdout",
     "output_type": "stream",
     "text": [
      "Overwriting ../AbsSumEigs.sage\n"
     ]
    }
   ],
   "source": [
    "%%writefile ../AbsSumEigs.sage\n",
    "def AbsSumEigs(param=(3,5), seed=None):\n",
    "    \"\"\"\n",
    "    A quiz generator for finding the sum of absolute values of eigenvalues\n",
    "    \n",
    "    INPUT:\n",
    "    \n",
    "    - ``param`` -- tuple `(dim, bound)`; \n",
    "      dim is the order of the A matrix  \n",
    "      bound is the bound for random_int_eigs_matrix  \n",
    "      \n",
    "    - ``seed`` -- integer;  you may give a seed for  \n",
    "      the random process if  you like.  Otherwise  \n",
    "      the default is ``None`` and a random number  \n",
    "      will be chosen.\n",
    "      \n",
    "    OUTPUT:\n",
    "    \n",
    "    three strings: QUESTION, SOLUTION, CHECKCODE\n",
    "    \"\"\"\n",
    "    dim, bound = param\n",
    "    random.seed(seed)\n",
    "\n",
    "    A = random_int_eigs_matrix(dim, bound=bound)\n",
    "\n",
    "    QUESTION = r\"\"\"\\newcommand{\\bv}{{\\bf v}}\n",
    "\\newcommand{\\rep}{\\operatorname{Rep}} \n",
    "   \n",
    "Let \n",
    "\\[A = %(A)s.\\]  \n",
    "Suppose the eigenvalues of $A$ are $\\lambda_1,\\ldots,\\lambda_%(dim)s$.  \n",
    "Find the value of $S = \\sum_{i=1}^%(dim)s \\lambda_i$, where $|\\cdot |$ is the absolute value.\n",
    "\n",
    "\\bigskip\n",
    "Check code $=$ $S$ mod $10$\n",
    "    \"\"\"%{'A': latex_matrix(A), \n",
    "         'dim': dim\n",
    "        }\n",
    "    \n",
    "    p = A.characteristic_polynomial()\n",
    "    eigs = A.eigenvalues()\n",
    "    eigs_stg = ', '.join(['%s'%eig for eig in eigs])\n",
    "    AbsSum = sum(map(abs, eigs))\n",
    "    \n",
    "    checkcode = AbsSum % 10\n",
    "    CHECKCODE = \"%s\"%checkcode\n",
    "    \n",
    "    SOLUTION = r\"\"\"The characteristic polynomial of $A$ is \n",
    "\\[%(p)s\\]\n",
    "and the eigenvalues are \n",
    "\\[\\{%(eigs_stg)s\\}.\\]  \n",
    "Therefore, $S = \\rboxed{%(AbsSum)s}$.\n",
    "\n",
    "\\bigskip \n",
    "Check code $=$ $\\det(A)$ mod $10$ $= %(checkcode)s$.\n",
    "    \"\"\"%({'p': latex(p), \n",
    "          'eigs_stg': eigs_stg, \n",
    "          'AbsSum': AbsSum, \n",
    "          'checkcode': checkcode\n",
    "         })\n",
    "    \n",
    "    return QUESTION, SOLUTION, CHECKCODE"
   ]
  },
  {
   "cell_type": "code",
   "execution_count": 500,
   "metadata": {},
   "outputs": [],
   "source": [
    "q, s, c = AbsSumEigs()"
   ]
  },
  {
   "cell_type": "code",
   "execution_count": 501,
   "metadata": {},
   "outputs": [
    {
     "name": "stdout",
     "output_type": "stream",
     "text": [
      "\\newcommand{\\bv}{{\\bf v}}\n",
      "\\newcommand{\\rep}{\\operatorname{Rep}} \n",
      "   \n",
      "Let \n",
      "\\[A = \\begin{bmatrix}\n",
      " -18 & 30 & 70 & -10 \\\\ \n",
      " -20 & 37 & 85 & -5 \\\\ \n",
      " 5 & -10 & -23 & 0 \\\\ \n",
      " 5 & -10 & -25 & 2 \\\\ \n",
      "\\end{bmatrix}.\\]  \n",
      "Suppose the eigenvalues of $A$ are $\\lambda_1,\\ldots,\\lambda_4$.  \n",
      "Find the value of $S = \\sum_{i=1}^4 \\lambda_i$, where $|\\cdot |$ is the absolute value.\n",
      "\n",
      "\\bigskip\n",
      "Check code $=$ $S$ mod $10$\n",
      "    \n",
      "---\n",
      "The characteristic polynomial of $A$ is \n",
      "\\[x^{4} + 2 x^{3} - 11 x^{2} - 12 x + 36\\]\n",
      "and the eigenvalues are \n",
      "\\[\\{2, 2, -3, -3\\}.\\]  \n",
      "Therefore, $S = \\rboxed{10}$.\n",
      "\n",
      "\\bigskip \n",
      "Check code $=$ $\\det(A)$ mod $10$ $= 0$.\n",
      "    \n",
      "---\n",
      "0\n"
     ]
    }
   ],
   "source": [
    "print(q)\n",
    "print('---')\n",
    "print(s)\n",
    "print('---')\n",
    "print(c)"
   ]
  },
  {
   "cell_type": "code",
   "execution_count": 491,
   "metadata": {},
   "outputs": [
    {
     "data": {
      "text/plain": [
       "'x^3 + 3*x^2 + 3*x + 1'"
      ]
     },
     "execution_count": 491,
     "metadata": {},
     "output_type": "execute_result"
    }
   ],
   "source": [
    "'%s'%p"
   ]
  },
  {
   "cell_type": "code",
   "execution_count": 492,
   "metadata": {},
   "outputs": [
    {
     "data": {
      "text/plain": [
       "x^{3} + 3 x^{2} + 3 x + 1"
      ]
     },
     "execution_count": 492,
     "metadata": {},
     "output_type": "execute_result"
    }
   ],
   "source": [
    "latex(p)"
   ]
  },
  {
   "cell_type": "code",
   "execution_count": 487,
   "metadata": {},
   "outputs": [],
   "source": [
    "A = random_int_eigs_matrix(3,1)"
   ]
  },
  {
   "cell_type": "code",
   "execution_count": 488,
   "metadata": {},
   "outputs": [
    {
     "data": {
      "text/plain": [
       "[-1  0  0]\n",
       "[ 0 -1  0]\n",
       "[ 0  0 -1]"
      ]
     },
     "execution_count": 488,
     "metadata": {},
     "output_type": "execute_result"
    }
   ],
   "source": [
    "A"
   ]
  },
  {
   "cell_type": "code",
   "execution_count": 490,
   "metadata": {},
   "outputs": [],
   "source": [
    "p = A.characteristic_polynomial()"
   ]
  },
  {
   "cell_type": "code",
   "execution_count": 486,
   "metadata": {},
   "outputs": [
    {
     "data": {
      "text/plain": [
       "[1, 1, -1, -1, -1]"
      ]
     },
     "execution_count": 486,
     "metadata": {},
     "output_type": "execute_result"
    }
   ],
   "source": [
    "A.eigenvalues()"
   ]
  },
  {
   "cell_type": "markdown",
   "metadata": {},
   "source": [
    "Temporarily give up  \n",
    "to generate symmetric matrices  \n",
    "with integer eigenvalues"
   ]
  },
  {
   "cell_type": "code",
   "execution_count": 418,
   "metadata": {},
   "outputs": [],
   "source": [
    "while True:\n",
    "    bound = 5\n",
    "    all_nz_numbers = list(range(-bound, bound+1))\n",
    "    all_nz_numbers.remove(0)\n",
    "    a00 = random.choice(all_nz_numbers)\n",
    "    a10 = random.choice(all_nz_numbers)\n",
    "\n",
    "    V = matrix([\n",
    "        [a00, -a10, a00],\n",
    "        [a10, a00, a10],\n",
    "        [1, 0, -a00**2 - a10**2]\n",
    "    ])\n",
    "    # d1 = gcd([V[i,1] for i in range(2)])\n",
    "    # d2 = gcd([V[i,2] for i in range(2)])\n",
    "    # V[:,1] /= d1\n",
    "    # V[:,2] /= d2\n",
    "\n",
    "    D = diagonal_matrix([random.choice([1,2]),\n",
    "                         -random.choice([1,2]),\n",
    "                         -1\n",
    "                        ])         \n",
    "\n",
    "    A = V * D * V.transpose()\n",
    "    eigs = A.eigenvalues()\n",
    "    if sum(map(abs, eigs)) <= 100:\n",
    "        break"
   ]
  },
  {
   "cell_type": "code",
   "execution_count": 419,
   "metadata": {},
   "outputs": [
    {
     "data": {
      "text/plain": [
       "[-1 -3  4]\n",
       "[-3 -1 -4]\n",
       "[ 4 -4 -2]"
      ]
     },
     "execution_count": 419,
     "metadata": {},
     "output_type": "execute_result"
    }
   ],
   "source": [
    "A"
   ]
  },
  {
   "cell_type": "code",
   "execution_count": 420,
   "metadata": {},
   "outputs": [
    {
     "data": {
      "text/plain": [
       "x^3 + 4*x^2 - 36*x - 144"
      ]
     },
     "execution_count": 420,
     "metadata": {},
     "output_type": "execute_result"
    }
   ],
   "source": [
    "A.characteristic_polynomial()"
   ]
  },
  {
   "cell_type": "code",
   "execution_count": 421,
   "metadata": {},
   "outputs": [
    {
     "data": {
      "text/plain": [
       "[6, -4, -6]"
      ]
     },
     "execution_count": 421,
     "metadata": {},
     "output_type": "execute_result"
    }
   ],
   "source": [
    "A.eigenvalues()"
   ]
  },
  {
   "cell_type": "code",
   "execution_count": 417,
   "metadata": {},
   "outputs": [
    {
     "data": {
      "text/plain": [
       "[-2  1 -2]\n",
       "[-1 -2 -1]\n",
       "[ 1  0 -5]"
      ]
     },
     "execution_count": 417,
     "metadata": {},
     "output_type": "execute_result"
    }
   ],
   "source": [
    "V"
   ]
  },
  {
   "cell_type": "code",
   "execution_count": 351,
   "metadata": {},
   "outputs": [
    {
     "data": {
      "text/plain": [
       "2"
      ]
     },
     "execution_count": 351,
     "metadata": {},
     "output_type": "execute_result"
    }
   ],
   "source": [
    "gcd([-2,2,0])"
   ]
  },
  {
   "cell_type": "code",
   "execution_count": 300,
   "metadata": {},
   "outputs": [
    {
     "data": {
      "text/plain": [
       "[ -8  -8 -18]\n",
       "[ -8  -8  18]\n",
       "[-18  18 -63]"
      ]
     },
     "execution_count": 300,
     "metadata": {},
     "output_type": "execute_result"
    }
   ],
   "source": [
    "A"
   ]
  },
  {
   "cell_type": "code",
   "execution_count": 301,
   "metadata": {},
   "outputs": [
    {
     "data": {
      "text/plain": [
       "[-2 -2 -2]\n",
       "[ 2 -2  2]\n",
       "[ 1  0 -8]"
      ]
     },
     "execution_count": 301,
     "metadata": {},
     "output_type": "execute_result"
    }
   ],
   "source": [
    "V"
   ]
  },
  {
   "cell_type": "code",
   "execution_count": null,
   "metadata": {},
   "outputs": [],
   "source": []
  }
 ],
 "metadata": {
  "kernelspec": {
   "display_name": "SageMath 9.0",
   "language": "sage",
   "name": "sagemath"
  },
  "language_info": {
   "codemirror_mode": {
    "name": "ipython",
    "version": 3
   },
   "file_extension": ".py",
   "mimetype": "text/x-python",
   "name": "python",
   "nbconvert_exporter": "python",
   "pygments_lexer": "ipython3",
   "version": "3.8.1"
  }
 },
 "nbformat": 4,
 "nbformat_minor": 2
}
